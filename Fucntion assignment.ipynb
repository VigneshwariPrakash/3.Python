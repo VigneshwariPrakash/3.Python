{
 "cells": [
  {
   "cell_type": "code",
   "execution_count": 29,
   "id": "27673fb1-b67e-48fa-ab48-0f85c4109a7b",
   "metadata": {},
   "outputs": [
    {
     "name": "stdout",
     "output_type": "stream",
     "text": [
      "Sub-fields in AI are:\n",
      "Machine Learning\n",
      "Neural Networks\n",
      "Vision\n",
      "Robotics\n",
      "Speech Processing\n",
      "Natural Language Processing\n"
     ]
    }
   ],
   "source": [
    "\n",
    "Lists=['Machine Learning','Neural Networks','Vision','Robotics','Speech Processing','Natural Language Processing']\n",
    "def Subfields():\n",
    "    print(\"Sub-fields in AI are:\")\n",
    "    for Subfields in Lists:\n",
    "        print(Subfields)\n",
    "Subfields()\n"
   ]
  },
  {
   "cell_type": "code",
   "execution_count": 47,
   "id": "349a786d-8093-440a-9eee-a4ca61124521",
   "metadata": {},
   "outputs": [
    {
     "name": "stdin",
     "output_type": "stream",
     "text": [
      "Enter a number: 52452\n"
     ]
    },
    {
     "name": "stdout",
     "output_type": "stream",
     "text": [
      "52452 is Even number\n"
     ]
    },
    {
     "data": {
      "text/plain": [
       "'Even number'"
      ]
     },
     "execution_count": 47,
     "metadata": {},
     "output_type": "execute_result"
    }
   ],
   "source": [
    "def OddEven():\n",
    "    num1=int(input(\"Enter a number:\"))\n",
    "    if(num1%2==0):\n",
    "        print(num1,\"is Even number\")\n",
    "        number=\"Even number\"\n",
    "    else:\n",
    "        print(num1,\"is Odd number\")\n",
    "        number=\"Odd number\"\n",
    "    return number\n",
    "OddEven()"
   ]
  },
  {
   "cell_type": "code",
   "execution_count": 45,
   "id": "92a624bc-b1ef-4ff3-89c5-61f68c2b7471",
   "metadata": {},
   "outputs": [
    {
     "name": "stdin",
     "output_type": "stream",
     "text": [
      "Enter a number: 52452\n"
     ]
    },
    {
     "name": "stdout",
     "output_type": "stream",
     "text": [
      "52452 is Even number\n"
     ]
    },
    {
     "data": {
      "text/plain": [
       "(52452, 'Even number')"
      ]
     },
     "execution_count": 45,
     "metadata": {},
     "output_type": "execute_result"
    }
   ],
   "source": [
    "def OddEven():\n",
    "    num1=int(input(\"Enter a number:\"))\n",
    "    if(num1%2==0):\n",
    "        print(num1,\"is Even number\")\n",
    "        number=num1,\"Even number\"\n",
    "    else:\n",
    "        print(num1,\"is Odd number\")\n",
    "        number=num1,\"Odd number\"\n",
    "    return number\n",
    "OddEven()"
   ]
  },
  {
   "cell_type": "code",
   "execution_count": 7,
   "id": "a04a33ca-3a9e-4692-89ed-6622b290ed15",
   "metadata": {},
   "outputs": [
    {
     "name": "stdin",
     "output_type": "stream",
     "text": [
      "your Gender: Female\n",
      "Your Age: 15\n"
     ]
    },
    {
     "name": "stdout",
     "output_type": "stream",
     "text": [
      "Not Eligible\n"
     ]
    }
   ],
   "source": [
    "Gender=input(\"your Gender:\")\n",
    "age=int(input(\"Your Age:\"))\n",
    "if(Gender=='Male'):\n",
    "            if(age>=21):\n",
    "                print(\"Eligible\")\n",
    "            else:\n",
    "                print(\"Not Eligible\")\n",
    "elif(Gender=='Female'):\n",
    "            if(age>=18):\n",
    "                print(\"Eligible\")\n",
    "            else:\n",
    "                print(\"Not Eligible\")\n"
   ]
  },
  {
   "cell_type": "code",
   "execution_count": 22,
   "id": "2406dada-5366-4d0b-bf13-6b960a3f659e",
   "metadata": {},
   "outputs": [
    {
     "name": "stdin",
     "output_type": "stream",
     "text": [
      "your Gender: Male\n",
      "Your Age: 25\n"
     ]
    },
    {
     "name": "stdout",
     "output_type": "stream",
     "text": [
      "Eligible\n"
     ]
    }
   ],
   "source": [
    "\n",
    "Gender=input(\"your Gender:\")\n",
    "age=int(input(\"Your Age:\"))\n",
    "def Eligible():\n",
    "    if(Gender=='Male'):\n",
    "        if(age>=21):\n",
    "            print(\"Eligible\")\n",
    "        else:\n",
    "            print(\"Not Eligible\")\n",
    "    elif(Gender=='Female'):\n",
    "        if(age>=18):\n",
    "            print(\"Eligible\")\n",
    "        else:\n",
    "            print(\"Not Eligible\")\n",
    "Eligible()\n"
   ]
  },
  {
   "cell_type": "code",
   "execution_count": 26,
   "id": "f62efca9-a6ca-4e40-96b8-2e3fe0edf84b",
   "metadata": {},
   "outputs": [
    {
     "name": "stdin",
     "output_type": "stream",
     "text": [
      "your Gender: Female\n",
      "Your Age: 21\n"
     ]
    },
    {
     "name": "stdout",
     "output_type": "stream",
     "text": [
      "Eligible\n"
     ]
    },
    {
     "data": {
      "text/plain": [
       "'Eligible'"
      ]
     },
     "execution_count": 26,
     "metadata": {},
     "output_type": "execute_result"
    }
   ],
   "source": [
    "\n",
    "Gender=input(\"your Gender:\")\n",
    "age=int(input(\"Your Age:\"))\n",
    "def Eligible():\n",
    "    if(Gender=='Male'):\n",
    "        if(age>=21):\n",
    "            print(\"Eligible\")\n",
    "            elg=\"Eligible\"\n",
    "        else:\n",
    "            print(\"Not Eligible\")\n",
    "            elg=\"Not Eligible\"\n",
    "    elif(Gender=='Female'):\n",
    "        if(age>=18):\n",
    "            print(\"Eligible\")\n",
    "            elg=\"Eligible\"\n",
    "        else:\n",
    "            print(\"Not Eligible\")\n",
    "            elg=\"Not Eligible\"\n",
    "    return elg \n",
    "Eligible()\n"
   ]
  },
  {
   "cell_type": "code",
   "execution_count": 44,
   "id": "38d3ce63-f87d-4078-a466-0da835276b96",
   "metadata": {},
   "outputs": [
    {
     "name": "stdin",
     "output_type": "stream",
     "text": [
      "Subject1= 98\n",
      "Subject2= 87\n",
      "Subject3= 95\n",
      "Subject4= 95\n",
      "Subject5= 93\n"
     ]
    },
    {
     "name": "stdout",
     "output_type": "stream",
     "text": [
      "Total: 468\n",
      "percentage: 93.6\n"
     ]
    }
   ],
   "source": [
    "sub1=int(input(\"Subject1=\"))\n",
    "sub2=int(input(\"Subject2=\"))\n",
    "sub3=int(input(\"Subject3=\"))\n",
    "sub4=int(input(\"Subject4=\"))\n",
    "sub5=int(input(\"Subject5=\"))\n",
    "def percentage():\n",
    "    Total=sub1+sub2+sub3+sub4+sub5\n",
    "    print(\"Total:\",Total)\n",
    "    print(\"percentage:\",Total/5)\n",
    "percentage()"
   ]
  },
  {
   "cell_type": "code",
   "execution_count": 1,
   "id": "361efc08-c529-4f52-b0c9-3f6d8af72557",
   "metadata": {},
   "outputs": [
    {
     "name": "stdin",
     "output_type": "stream",
     "text": [
      "Height: 32\n",
      "Breadth: 34\n",
      "Area formula (Height*Breadth1)/2\n"
     ]
    },
    {
     "name": "stdout",
     "output_type": "stream",
     "text": [
      "Area of Triangle: 544.0\n"
     ]
    },
    {
     "name": "stdin",
     "output_type": "stream",
     "text": [
      "Height1: 2\n",
      "Height2: 4\n",
      "Breadth: 4\n",
      "Perimeter formula: Height1+Height2+Breadth2\n"
     ]
    },
    {
     "name": "stdout",
     "output_type": "stream",
     "text": [
      "Perimeter of Triangle 10\n"
     ]
    }
   ],
   "source": [
    "def triangle():\n",
    "    Height=int(input(\"Height:\"))\n",
    "    Breadth1=int(input(\"Breadth:\"))\n",
    "    Areaformula=input(\"Area formula\")\n",
    "    Area=(Height*Breadth1)/2\n",
    "    print(\"Area of Triangle:\",Area)\n",
    "    Height1=int(input(\"Height1:\"))\n",
    "    Height2=int(input(\"Height2:\"))\n",
    "    Breadth2=int(input(\"Breadth:\"))\n",
    "    Perimeterformula=input(\"Perimeter formula:\")\n",
    "    Perimeter=Height1+Height2+Breadth2\n",
    "    print(\"Perimeter of Triangle\",Perimeter)\n",
    "triangle()\n"
   ]
  },
  {
   "cell_type": "code",
   "execution_count": null,
   "id": "bff49674-0da0-4d07-bec9-21e579e78ea7",
   "metadata": {},
   "outputs": [],
   "source": []
  },
  {
   "cell_type": "code",
   "execution_count": null,
   "id": "1ec5ef28-f5b7-4dd9-b308-8edae823155f",
   "metadata": {},
   "outputs": [],
   "source": []
  },
  {
   "cell_type": "code",
   "execution_count": null,
   "id": "e9d81adf-99d3-415a-82dd-bf2d59e61717",
   "metadata": {},
   "outputs": [],
   "source": []
  },
  {
   "cell_type": "code",
   "execution_count": null,
   "id": "882a4c4b-2420-43fb-8436-3ddeff15d3d2",
   "metadata": {},
   "outputs": [],
   "source": []
  },
  {
   "cell_type": "code",
   "execution_count": null,
   "id": "df5d6a8d-3a05-4dc1-a57c-b28ea64ed3e8",
   "metadata": {},
   "outputs": [],
   "source": []
  },
  {
   "cell_type": "code",
   "execution_count": null,
   "id": "5e02f15c-d530-4500-8166-60086fc08857",
   "metadata": {},
   "outputs": [],
   "source": []
  },
  {
   "cell_type": "code",
   "execution_count": null,
   "id": "31c37557-dbf8-4538-ad76-d6ece63d42cf",
   "metadata": {},
   "outputs": [],
   "source": []
  },
  {
   "cell_type": "code",
   "execution_count": null,
   "id": "87017623-572b-446c-8394-0f8dae332b38",
   "metadata": {},
   "outputs": [],
   "source": []
  }
 ],
 "metadata": {
  "kernelspec": {
   "display_name": "Python 3 (ipykernel)",
   "language": "python",
   "name": "python3"
  },
  "language_info": {
   "codemirror_mode": {
    "name": "ipython",
    "version": 3
   },
   "file_extension": ".py",
   "mimetype": "text/x-python",
   "name": "python",
   "nbconvert_exporter": "python",
   "pygments_lexer": "ipython3",
   "version": "3.12.7"
  }
 },
 "nbformat": 4,
 "nbformat_minor": 5
}
